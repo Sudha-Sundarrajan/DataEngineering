{
 "cells": [
  {
   "cell_type": "code",
   "execution_count": 4,
   "metadata": {},
   "outputs": [],
   "source": [
    "from pyspark.sql import SparkSession"
   ]
  },
  {
   "cell_type": "raw",
   "metadata": {},
   "source": [
    "Set Spark Context (representing a connection to a spark cluster )"
   ]
  },
  {
   "cell_type": "code",
   "execution_count": 5,
   "metadata": {},
   "outputs": [],
   "source": [
    "spark = SparkSession.builder.getOrCreate()"
   ]
  },
  {
   "cell_type": "code",
   "execution_count": 26,
   "metadata": {},
   "outputs": [],
   "source": [
    "data_path = \"/Users/extn0st/spark/Learning/SparkSQL/data\"\n",
    "json_path = data_path +\"./utilization.json\""
   ]
  },
  {
   "cell_type": "markdown",
   "metadata": {},
   "source": [
    "Open json file. Multiline set to true consolidates a json element spread over multiple lines into one. Otherwise an exception will be thrown"
   ]
  },
  {
   "cell_type": "code",
   "execution_count": 34,
   "metadata": {},
   "outputs": [],
   "source": [
    "df1=spark.read.format(\"json\").option(\"multiline\",\"true\").load(json_path)"
   ]
  },
  {
   "cell_type": "code",
   "execution_count": 35,
   "metadata": {},
   "outputs": [
    {
     "data": {
      "text/plain": [
       "500000"
      ]
     },
     "execution_count": 35,
     "metadata": {},
     "output_type": "execute_result"
    }
   ],
   "source": [
    "df1.count()"
   ]
  },
  {
   "cell_type": "code",
   "execution_count": 36,
   "metadata": {},
   "outputs": [
    {
     "name": "stdout",
     "output_type": "stream",
     "text": [
      "+-------------------+-----------+------------+\n",
      "|         event_date|location_id|temp_celcius|\n",
      "+-------------------+-----------+------------+\n",
      "|03/04/2019 19:48:06|       loc0|          29|\n",
      "|03/04/2019 19:53:06|       loc0|          27|\n",
      "|03/04/2019 19:58:06|       loc0|          28|\n",
      "|03/04/2019 20:03:06|       loc0|          30|\n",
      "|03/04/2019 20:08:06|       loc0|          27|\n",
      "|03/04/2019 20:13:06|       loc0|          27|\n",
      "|03/04/2019 20:18:06|       loc0|          27|\n",
      "|03/04/2019 20:23:06|       loc0|          29|\n",
      "|03/04/2019 20:28:06|       loc0|          32|\n",
      "|03/04/2019 20:33:06|       loc0|          35|\n",
      "|03/04/2019 20:38:06|       loc0|          32|\n",
      "|03/04/2019 20:43:06|       loc0|          28|\n",
      "|03/04/2019 20:48:06|       loc0|          28|\n",
      "|03/04/2019 20:53:06|       loc0|          32|\n",
      "|03/04/2019 20:58:06|       loc0|          34|\n",
      "|03/04/2019 21:03:06|       loc0|          33|\n",
      "|03/04/2019 21:08:06|       loc0|          27|\n",
      "|03/04/2019 21:13:06|       loc0|          28|\n",
      "|03/04/2019 21:18:06|       loc0|          33|\n",
      "|03/04/2019 21:23:06|       loc0|          28|\n",
      "+-------------------+-----------+------------+\n",
      "only showing top 20 rows\n",
      "\n"
     ]
    }
   ],
   "source": [
    "df1.show()"
   ]
  },
  {
   "cell_type": "code",
   "execution_count": 30,
   "metadata": {},
   "outputs": [
    {
     "data": {
      "text/plain": [
       "['event_date', 'location_id', 'temp_celcius']"
      ]
     },
     "execution_count": 30,
     "metadata": {},
     "output_type": "execute_result"
    }
   ],
   "source": [
    "df1.columns"
   ]
  },
  {
   "cell_type": "code",
   "execution_count": 37,
   "metadata": {},
   "outputs": [],
   "source": [
    "df2=df1.sample(False, fraction = 0.1)"
   ]
  },
  {
   "cell_type": "code",
   "execution_count": 38,
   "metadata": {},
   "outputs": [
    {
     "name": "stdout",
     "output_type": "stream",
     "text": [
      "+-------------------+-----------+------------+\n",
      "|         event_date|location_id|temp_celcius|\n",
      "+-------------------+-----------+------------+\n",
      "|03/04/2019 20:18:06|       loc0|          27|\n",
      "|03/04/2019 21:33:06|       loc0|          27|\n",
      "|03/04/2019 21:48:06|       loc0|          27|\n",
      "|03/04/2019 22:38:06|       loc0|          27|\n",
      "|03/04/2019 22:48:06|       loc0|          28|\n",
      "|03/05/2019 00:43:06|       loc0|          28|\n",
      "|03/05/2019 01:53:06|       loc0|          29|\n",
      "|03/05/2019 02:28:06|       loc0|          33|\n",
      "|03/05/2019 03:28:06|       loc0|          29|\n",
      "|03/05/2019 03:53:06|       loc0|          30|\n",
      "|03/05/2019 05:38:06|       loc0|          31|\n",
      "|03/05/2019 05:48:06|       loc0|          27|\n",
      "|03/05/2019 07:03:06|       loc0|          27|\n",
      "|03/05/2019 07:48:06|       loc0|          28|\n",
      "|03/05/2019 09:28:06|       loc0|          31|\n",
      "|03/05/2019 10:33:06|       loc0|          29|\n",
      "|03/05/2019 11:08:06|       loc0|          28|\n",
      "|03/05/2019 12:03:06|       loc0|          31|\n",
      "|03/05/2019 13:18:06|       loc0|          27|\n",
      "|03/05/2019 13:43:06|       loc0|          30|\n",
      "+-------------------+-----------+------------+\n",
      "only showing top 20 rows\n",
      "\n"
     ]
    }
   ],
   "source": [
    "df2.show()"
   ]
  },
  {
   "cell_type": "code",
   "execution_count": 39,
   "metadata": {},
   "outputs": [
    {
     "data": {
      "text/plain": [
       "50173"
      ]
     },
     "execution_count": 39,
     "metadata": {},
     "output_type": "execute_result"
    }
   ],
   "source": [
    "df2.count()"
   ]
  },
  {
   "cell_type": "markdown",
   "metadata": {},
   "source": [
    "Sort the data set based on a column and display the results"
   ]
  },
  {
   "cell_type": "code",
   "execution_count": 50,
   "metadata": {},
   "outputs": [
    {
     "name": "stdout",
     "output_type": "stream",
     "text": [
      "+-------------------+-----------+------------+\n",
      "|         event_date|location_id|temp_celcius|\n",
      "+-------------------+-----------+------------+\n",
      "|03/04/2019 19:48:07|       loc8|          26|\n",
      "|03/04/2019 19:48:08|       loc9|          35|\n",
      "|03/04/2019 19:48:09|      loc18|          35|\n",
      "|03/04/2019 19:48:10|      loc23|          38|\n",
      "|03/04/2019 19:48:10|      loc22|          30|\n",
      "|03/04/2019 19:48:11|      loc29|          26|\n",
      "|03/04/2019 19:48:13|      loc37|          30|\n",
      "|03/04/2019 19:48:13|      loc40|          27|\n",
      "|03/04/2019 19:48:14|      loc45|          31|\n",
      "|03/04/2019 19:48:15|      loc46|          28|\n",
      "|03/04/2019 19:48:16|      loc53|          21|\n",
      "|03/04/2019 19:48:17|      loc57|          25|\n",
      "|03/04/2019 19:48:17|      loc59|          29|\n",
      "|03/04/2019 19:48:18|      loc62|          30|\n",
      "|03/04/2019 19:48:25|      loc99|          33|\n",
      "|03/04/2019 19:48:29|     loc122|          32|\n",
      "|03/04/2019 19:48:32|     loc136|          32|\n",
      "|03/04/2019 19:48:33|     loc142|          34|\n",
      "|03/04/2019 19:48:35|     loc155|          25|\n",
      "|03/04/2019 19:48:35|     loc152|          27|\n",
      "+-------------------+-----------+------------+\n",
      "only showing top 20 rows\n",
      "\n"
     ]
    }
   ],
   "source": [
    "df2.sort(\"event_date\").show()"
   ]
  },
  {
   "cell_type": "markdown",
   "metadata": {},
   "source": [
    "Show the sorted data"
   ]
  },
  {
   "cell_type": "code",
   "execution_count": 51,
   "metadata": {},
   "outputs": [
    {
     "name": "stdout",
     "output_type": "stream",
     "text": [
      "+-------------------+-----------+------------+\n",
      "|         event_date|location_id|temp_celcius|\n",
      "+-------------------+-----------+------------+\n",
      "|03/04/2019 19:48:07|       loc8|          26|\n",
      "|03/04/2019 19:48:08|       loc9|          35|\n",
      "|03/04/2019 19:48:09|      loc18|          35|\n",
      "|03/04/2019 19:48:10|      loc22|          30|\n",
      "|03/04/2019 19:48:10|      loc23|          38|\n",
      "+-------------------+-----------+------------+\n",
      "only showing top 5 rows\n",
      "\n"
     ]
    }
   ],
   "source": [
    "df2_sorted.show(5)"
   ]
  },
  {
   "cell_type": "markdown",
   "metadata": {},
   "source": [
    "Use filter on a column "
   ]
  },
  {
   "cell_type": "code",
   "execution_count": 52,
   "metadata": {},
   "outputs": [
    {
     "name": "stdout",
     "output_type": "stream",
     "text": [
      "+-------------------+-----------+------------+\n",
      "|         event_date|location_id|temp_celcius|\n",
      "+-------------------+-----------+------------+\n",
      "|03/04/2019 19:48:07|       loc8|          26|\n",
      "|03/04/2019 20:23:07|       loc8|          30|\n",
      "|03/04/2019 20:38:07|       loc8|          27|\n",
      "|03/04/2019 21:13:07|       loc8|          27|\n",
      "|03/04/2019 23:38:07|       loc8|          26|\n",
      "|03/05/2019 00:13:07|       loc8|          27|\n",
      "|03/05/2019 00:28:07|       loc8|          31|\n",
      "|03/05/2019 00:33:07|       loc8|          28|\n",
      "|03/05/2019 00:48:07|       loc8|          32|\n",
      "|03/05/2019 01:28:07|       loc8|          28|\n",
      "|03/05/2019 01:38:07|       loc8|          29|\n",
      "|03/05/2019 02:38:07|       loc8|          26|\n",
      "|03/05/2019 04:18:07|       loc8|          30|\n",
      "|03/05/2019 05:33:07|       loc8|          32|\n",
      "|03/05/2019 08:18:07|       loc8|          29|\n",
      "|03/05/2019 09:03:07|       loc8|          33|\n",
      "|03/05/2019 09:58:07|       loc8|          26|\n",
      "|03/05/2019 10:18:07|       loc8|          26|\n",
      "|03/05/2019 10:48:07|       loc8|          29|\n",
      "|03/05/2019 11:53:07|       loc8|          33|\n",
      "+-------------------+-----------+------------+\n",
      "only showing top 20 rows\n",
      "\n"
     ]
    }
   ],
   "source": [
    "df2.filter(df2[\"location_id\"]=='loc8').show()"
   ]
  },
  {
   "cell_type": "code",
   "execution_count": 55,
   "metadata": {},
   "outputs": [
    {
     "name": "stdout",
     "output_type": "stream",
     "text": [
      "+-------------------+-----------+------------+\n",
      "|         event_date|location_id|temp_celcius|\n",
      "+-------------------+-----------+------------+\n",
      "|03/04/2019 19:48:06|       loc0|          29|\n",
      "|03/04/2019 19:53:06|       loc0|          27|\n",
      "|03/04/2019 19:58:06|       loc0|          28|\n",
      "|03/04/2019 20:03:06|       loc0|          30|\n",
      "|03/04/2019 20:08:06|       loc0|          27|\n",
      "|03/04/2019 20:13:06|       loc0|          27|\n",
      "|03/04/2019 20:18:06|       loc0|          27|\n",
      "|03/04/2019 20:23:06|       loc0|          29|\n",
      "|03/04/2019 20:28:06|       loc0|          32|\n",
      "|03/04/2019 20:33:06|       loc0|          35|\n",
      "|03/04/2019 20:38:06|       loc0|          32|\n",
      "|03/04/2019 20:43:06|       loc0|          28|\n",
      "|03/04/2019 20:48:06|       loc0|          28|\n",
      "|03/04/2019 20:53:06|       loc0|          32|\n",
      "|03/04/2019 20:58:06|       loc0|          34|\n",
      "|03/04/2019 21:03:06|       loc0|          33|\n",
      "|03/04/2019 21:08:06|       loc0|          27|\n",
      "|03/04/2019 21:13:06|       loc0|          28|\n",
      "|03/04/2019 21:18:06|       loc0|          33|\n",
      "|03/04/2019 21:23:06|       loc0|          28|\n",
      "+-------------------+-----------+------------+\n",
      "only showing top 20 rows\n",
      "\n"
     ]
    }
   ],
   "source": [
    "df1.show()"
   ]
  },
  {
   "cell_type": "code",
   "execution_count": 61,
   "metadata": {},
   "outputs": [
    {
     "name": "stdout",
     "output_type": "stream",
     "text": [
      "+-------------------+-----------+------------+\n",
      "|         event_date|location_id|temp_celcius|\n",
      "+-------------------+-----------+------------+\n",
      "|03/04/2019 19:48:25|      loc99|          33|\n",
      "|03/04/2019 21:28:25|      loc99|          33|\n",
      "|03/04/2019 19:53:25|      loc99|          34|\n",
      "|03/04/2019 19:58:25|      loc99|          32|\n",
      "|03/04/2019 20:03:25|      loc99|          32|\n",
      "|03/04/2019 20:08:25|      loc99|          31|\n",
      "|03/04/2019 20:13:25|      loc99|          37|\n",
      "|03/04/2019 20:18:25|      loc99|          35|\n",
      "|03/04/2019 20:23:25|      loc99|          31|\n",
      "|03/04/2019 20:28:25|      loc99|          34|\n",
      "|03/04/2019 20:33:25|      loc99|          32|\n",
      "|03/04/2019 20:38:25|      loc99|          34|\n",
      "|03/04/2019 20:43:25|      loc99|          36|\n",
      "|03/04/2019 20:48:25|      loc99|          34|\n",
      "|03/04/2019 20:53:25|      loc99|          33|\n",
      "|03/04/2019 20:58:25|      loc99|          32|\n",
      "|03/04/2019 21:03:25|      loc99|          32|\n",
      "|03/04/2019 21:08:25|      loc99|          31|\n",
      "|03/04/2019 21:13:25|      loc99|          37|\n",
      "|03/04/2019 21:18:25|      loc99|          32|\n",
      "+-------------------+-----------+------------+\n",
      "only showing top 20 rows\n",
      "\n"
     ]
    }
   ],
   "source": [
    "df1.sort(\"location_id\", ascending=False).show()"
   ]
  },
  {
   "cell_type": "markdown",
   "metadata": {},
   "source": [
    "Use OrderBy to sort a data set in order. desc() method sorts in descending"
   ]
  },
  {
   "cell_type": "code",
   "execution_count": 63,
   "metadata": {},
   "outputs": [
    {
     "name": "stdout",
     "output_type": "stream",
     "text": [
      "+-------------------+-----------+------------+\n",
      "|         event_date|location_id|temp_celcius|\n",
      "+-------------------+-----------+------------+\n",
      "|03/04/2019 19:48:25|      loc99|          33|\n",
      "|03/04/2019 21:28:25|      loc99|          33|\n",
      "|03/04/2019 19:53:25|      loc99|          34|\n",
      "|03/04/2019 19:58:25|      loc99|          32|\n",
      "|03/04/2019 20:03:25|      loc99|          32|\n",
      "|03/04/2019 20:08:25|      loc99|          31|\n",
      "|03/04/2019 20:13:25|      loc99|          37|\n",
      "|03/04/2019 20:18:25|      loc99|          35|\n",
      "|03/04/2019 20:23:25|      loc99|          31|\n",
      "|03/04/2019 20:28:25|      loc99|          34|\n",
      "|03/04/2019 20:33:25|      loc99|          32|\n",
      "|03/04/2019 20:38:25|      loc99|          34|\n",
      "|03/04/2019 20:43:25|      loc99|          36|\n",
      "|03/04/2019 20:48:25|      loc99|          34|\n",
      "|03/04/2019 20:53:25|      loc99|          33|\n",
      "|03/04/2019 20:58:25|      loc99|          32|\n",
      "|03/04/2019 21:03:25|      loc99|          32|\n",
      "|03/04/2019 21:08:25|      loc99|          31|\n",
      "|03/04/2019 21:13:25|      loc99|          37|\n",
      "|03/04/2019 21:18:25|      loc99|          32|\n",
      "+-------------------+-----------+------------+\n",
      "only showing top 20 rows\n",
      "\n"
     ]
    }
   ],
   "source": [
    "df1.orderBy(df1[\"location_id\"].desc()).show()"
   ]
  },
  {
   "cell_type": "code",
   "execution_count": null,
   "metadata": {},
   "outputs": [],
   "source": []
  }
 ],
 "metadata": {
  "kernelspec": {
   "display_name": "Python 3",
   "language": "python",
   "name": "python3"
  },
  "language_info": {
   "codemirror_mode": {
    "name": "ipython",
    "version": 3
   },
   "file_extension": ".py",
   "mimetype": "text/x-python",
   "name": "python",
   "nbconvert_exporter": "python",
   "pygments_lexer": "ipython3",
   "version": "3.9.0"
  }
 },
 "nbformat": 4,
 "nbformat_minor": 4
}
