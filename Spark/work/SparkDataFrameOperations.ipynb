{
 "cells": [
  {
   "cell_type": "code",
   "execution_count": 1,
   "metadata": {},
   "outputs": [],
   "source": [
    "from pyspark.sql import SparkSession"
   ]
  },
  {
   "cell_type": "raw",
   "metadata": {},
   "source": [
    "Set Spark Context (representing a connection to a spark cluster )"
   ]
  },
  {
   "cell_type": "code",
   "execution_count": 2,
   "metadata": {},
   "outputs": [],
   "source": [
    "spark = SparkSession.builder.getOrCreate()"
   ]
  },
  {
   "cell_type": "code",
   "execution_count": 3,
   "metadata": {},
   "outputs": [],
   "source": [
    "data_path = \"/Users/extn0st/spark/Learning/SparkSQL/data\"\n",
    "json_path = data_path +\"./utilization.json\""
   ]
  },
  {
   "cell_type": "markdown",
   "metadata": {},
   "source": [
    "Open json file. Multiline set to true consolidates a json element spread over multiple lines into one. Otherwise an exception will be thrown"
   ]
  },
  {
   "cell_type": "code",
   "execution_count": 4,
   "metadata": {},
   "outputs": [],
   "source": [
    "df1=spark.read.format(\"json\").option(\"multiline\",\"true\").load(json_path)"
   ]
  },
  {
   "cell_type": "code",
   "execution_count": 5,
   "metadata": {},
   "outputs": [
    {
     "data": {
      "text/plain": [
       "500000"
      ]
     },
     "execution_count": 5,
     "metadata": {},
     "output_type": "execute_result"
    }
   ],
   "source": [
    "df1.count()"
   ]
  },
  {
   "cell_type": "code",
   "execution_count": 6,
   "metadata": {},
   "outputs": [
    {
     "name": "stdout",
     "output_type": "stream",
     "text": [
      "+-------------------+-----------+------------+\n",
      "|         event_date|location_id|temp_celcius|\n",
      "+-------------------+-----------+------------+\n",
      "|03/04/2019 19:48:06|       loc0|          29|\n",
      "|03/04/2019 19:53:06|       loc0|          27|\n",
      "|03/04/2019 19:58:06|       loc0|          28|\n",
      "|03/04/2019 20:03:06|       loc0|          30|\n",
      "|03/04/2019 20:08:06|       loc0|          27|\n",
      "|03/04/2019 20:13:06|       loc0|          27|\n",
      "|03/04/2019 20:18:06|       loc0|          27|\n",
      "|03/04/2019 20:23:06|       loc0|          29|\n",
      "|03/04/2019 20:28:06|       loc0|          32|\n",
      "|03/04/2019 20:33:06|       loc0|          35|\n",
      "|03/04/2019 20:38:06|       loc0|          32|\n",
      "|03/04/2019 20:43:06|       loc0|          28|\n",
      "|03/04/2019 20:48:06|       loc0|          28|\n",
      "|03/04/2019 20:53:06|       loc0|          32|\n",
      "|03/04/2019 20:58:06|       loc0|          34|\n",
      "|03/04/2019 21:03:06|       loc0|          33|\n",
      "|03/04/2019 21:08:06|       loc0|          27|\n",
      "|03/04/2019 21:13:06|       loc0|          28|\n",
      "|03/04/2019 21:18:06|       loc0|          33|\n",
      "|03/04/2019 21:23:06|       loc0|          28|\n",
      "+-------------------+-----------+------------+\n",
      "only showing top 20 rows\n",
      "\n"
     ]
    }
   ],
   "source": [
    "df1.show()"
   ]
  },
  {
   "cell_type": "code",
   "execution_count": 7,
   "metadata": {},
   "outputs": [
    {
     "data": {
      "text/plain": [
       "['event_date', 'location_id', 'temp_celcius']"
      ]
     },
     "execution_count": 7,
     "metadata": {},
     "output_type": "execute_result"
    }
   ],
   "source": [
    "df1.columns"
   ]
  },
  {
   "cell_type": "code",
   "execution_count": 8,
   "metadata": {},
   "outputs": [],
   "source": [
    "df2=df1.sample(False, fraction = 0.1)"
   ]
  },
  {
   "cell_type": "code",
   "execution_count": 9,
   "metadata": {},
   "outputs": [
    {
     "name": "stdout",
     "output_type": "stream",
     "text": [
      "+-------------------+-----------+------------+\n",
      "|         event_date|location_id|temp_celcius|\n",
      "+-------------------+-----------+------------+\n",
      "|03/04/2019 20:03:06|       loc0|          30|\n",
      "|03/04/2019 21:58:06|       loc0|          33|\n",
      "|03/04/2019 22:18:06|       loc0|          29|\n",
      "|03/05/2019 00:03:06|       loc0|          30|\n",
      "|03/05/2019 00:13:06|       loc0|          33|\n",
      "|03/05/2019 00:43:06|       loc0|          28|\n",
      "|03/05/2019 01:18:06|       loc0|          28|\n",
      "|03/05/2019 01:43:06|       loc0|          28|\n",
      "|03/05/2019 02:28:06|       loc0|          33|\n",
      "|03/05/2019 02:48:06|       loc0|          27|\n",
      "|03/05/2019 03:03:06|       loc0|          31|\n",
      "|03/05/2019 05:33:06|       loc0|          32|\n",
      "|03/05/2019 11:58:06|       loc0|          29|\n",
      "|03/05/2019 12:23:06|       loc0|          29|\n",
      "|03/05/2019 12:33:06|       loc0|          27|\n",
      "|03/05/2019 14:58:06|       loc0|          34|\n",
      "|03/05/2019 15:08:06|       loc0|          29|\n",
      "|03/05/2019 15:13:06|       loc0|          28|\n",
      "|03/05/2019 16:48:06|       loc0|          27|\n",
      "|03/05/2019 16:53:06|       loc0|          32|\n",
      "+-------------------+-----------+------------+\n",
      "only showing top 20 rows\n",
      "\n"
     ]
    }
   ],
   "source": [
    "df2.show()"
   ]
  },
  {
   "cell_type": "code",
   "execution_count": 10,
   "metadata": {},
   "outputs": [
    {
     "data": {
      "text/plain": [
       "50207"
      ]
     },
     "execution_count": 10,
     "metadata": {},
     "output_type": "execute_result"
    }
   ],
   "source": [
    "df2.count()"
   ]
  },
  {
   "cell_type": "markdown",
   "metadata": {},
   "source": [
    "Sort the data set based on a column and display the results"
   ]
  },
  {
   "cell_type": "code",
   "execution_count": 13,
   "metadata": {},
   "outputs": [
    {
     "name": "stdout",
     "output_type": "stream",
     "text": [
      "+-------------------+-----------+------------+\n",
      "|         event_date|location_id|temp_celcius|\n",
      "+-------------------+-----------+------------+\n",
      "|03/04/2019 19:48:07|       loc8|          26|\n",
      "|03/04/2019 19:48:07|       loc4|          25|\n",
      "|03/04/2019 19:48:09|      loc18|          35|\n",
      "|03/04/2019 19:48:10|      loc22|          30|\n",
      "|03/04/2019 19:48:14|      loc44|          37|\n",
      "|03/04/2019 19:48:16|      loc55|          27|\n",
      "|03/04/2019 19:48:17|      loc58|          28|\n",
      "|03/04/2019 19:48:18|      loc66|          34|\n",
      "|03/04/2019 19:48:20|      loc73|          28|\n",
      "|03/04/2019 19:48:21|      loc81|          25|\n",
      "|03/04/2019 19:48:21|      loc79|          33|\n",
      "|03/04/2019 19:48:22|      loc86|          26|\n",
      "|03/04/2019 19:48:28|     loc116|          24|\n",
      "|03/04/2019 19:48:29|     loc123|          21|\n",
      "|03/04/2019 19:48:29|     loc122|          32|\n",
      "|03/04/2019 19:48:30|     loc125|          31|\n",
      "|03/04/2019 19:48:31|     loc133|          24|\n",
      "|03/04/2019 19:48:37|     loc167|          32|\n",
      "|03/04/2019 19:48:39|     loc173|          25|\n",
      "|03/04/2019 19:48:42|     loc192|          27|\n",
      "+-------------------+-----------+------------+\n",
      "only showing top 20 rows\n",
      "\n"
     ]
    }
   ],
   "source": [
    "df2.sort(\"event_date\").show()"
   ]
  },
  {
   "cell_type": "markdown",
   "metadata": {},
   "source": [
    "Show the sorted data"
   ]
  },
  {
   "cell_type": "markdown",
   "metadata": {},
   "source": [
    "Use filter on a column "
   ]
  },
  {
   "cell_type": "code",
   "execution_count": 14,
   "metadata": {},
   "outputs": [
    {
     "name": "stdout",
     "output_type": "stream",
     "text": [
      "+-------------------+-----------+------------+\n",
      "|         event_date|location_id|temp_celcius|\n",
      "+-------------------+-----------+------------+\n",
      "|03/04/2019 19:48:07|       loc8|          26|\n",
      "|03/04/2019 19:53:07|       loc8|          27|\n",
      "|03/04/2019 20:18:07|       loc8|          27|\n",
      "|03/04/2019 21:33:07|       loc8|          30|\n",
      "|03/04/2019 22:08:07|       loc8|          33|\n",
      "|03/04/2019 23:13:07|       loc8|          28|\n",
      "|03/05/2019 00:48:07|       loc8|          32|\n",
      "|03/05/2019 01:43:07|       loc8|          26|\n",
      "|03/05/2019 01:53:07|       loc8|          26|\n",
      "|03/05/2019 02:43:07|       loc8|          29|\n",
      "|03/05/2019 02:53:07|       loc8|          31|\n",
      "|03/05/2019 02:58:07|       loc8|          30|\n",
      "|03/05/2019 03:08:07|       loc8|          28|\n",
      "|03/05/2019 04:08:07|       loc8|          27|\n",
      "|03/05/2019 04:18:07|       loc8|          30|\n",
      "|03/05/2019 04:58:07|       loc8|          27|\n",
      "|03/05/2019 05:18:07|       loc8|          26|\n",
      "|03/05/2019 05:58:07|       loc8|          27|\n",
      "|03/05/2019 06:33:07|       loc8|          30|\n",
      "|03/05/2019 08:03:07|       loc8|          31|\n",
      "+-------------------+-----------+------------+\n",
      "only showing top 20 rows\n",
      "\n"
     ]
    }
   ],
   "source": [
    "df2.filter(df2[\"location_id\"]=='loc8').show()"
   ]
  },
  {
   "cell_type": "code",
   "execution_count": 15,
   "metadata": {},
   "outputs": [
    {
     "name": "stdout",
     "output_type": "stream",
     "text": [
      "+-------------------+-----------+------------+\n",
      "|         event_date|location_id|temp_celcius|\n",
      "+-------------------+-----------+------------+\n",
      "|03/04/2019 19:48:06|       loc0|          29|\n",
      "|03/04/2019 19:53:06|       loc0|          27|\n",
      "|03/04/2019 19:58:06|       loc0|          28|\n",
      "|03/04/2019 20:03:06|       loc0|          30|\n",
      "|03/04/2019 20:08:06|       loc0|          27|\n",
      "|03/04/2019 20:13:06|       loc0|          27|\n",
      "|03/04/2019 20:18:06|       loc0|          27|\n",
      "|03/04/2019 20:23:06|       loc0|          29|\n",
      "|03/04/2019 20:28:06|       loc0|          32|\n",
      "|03/04/2019 20:33:06|       loc0|          35|\n",
      "|03/04/2019 20:38:06|       loc0|          32|\n",
      "|03/04/2019 20:43:06|       loc0|          28|\n",
      "|03/04/2019 20:48:06|       loc0|          28|\n",
      "|03/04/2019 20:53:06|       loc0|          32|\n",
      "|03/04/2019 20:58:06|       loc0|          34|\n",
      "|03/04/2019 21:03:06|       loc0|          33|\n",
      "|03/04/2019 21:08:06|       loc0|          27|\n",
      "|03/04/2019 21:13:06|       loc0|          28|\n",
      "|03/04/2019 21:18:06|       loc0|          33|\n",
      "|03/04/2019 21:23:06|       loc0|          28|\n",
      "+-------------------+-----------+------------+\n",
      "only showing top 20 rows\n",
      "\n"
     ]
    }
   ],
   "source": [
    "df1.show()"
   ]
  },
  {
   "cell_type": "code",
   "execution_count": 16,
   "metadata": {},
   "outputs": [
    {
     "name": "stdout",
     "output_type": "stream",
     "text": [
      "+-------------------+-----------+------------+\n",
      "|         event_date|location_id|temp_celcius|\n",
      "+-------------------+-----------+------------+\n",
      "|03/04/2019 19:48:25|      loc99|          33|\n",
      "|03/04/2019 21:28:25|      loc99|          33|\n",
      "|03/04/2019 19:53:25|      loc99|          34|\n",
      "|03/04/2019 19:58:25|      loc99|          32|\n",
      "|03/04/2019 20:03:25|      loc99|          32|\n",
      "|03/04/2019 20:08:25|      loc99|          31|\n",
      "|03/04/2019 20:13:25|      loc99|          37|\n",
      "|03/04/2019 20:18:25|      loc99|          35|\n",
      "|03/04/2019 20:23:25|      loc99|          31|\n",
      "|03/04/2019 20:28:25|      loc99|          34|\n",
      "|03/04/2019 20:33:25|      loc99|          32|\n",
      "|03/04/2019 20:38:25|      loc99|          34|\n",
      "|03/04/2019 20:43:25|      loc99|          36|\n",
      "|03/04/2019 20:48:25|      loc99|          34|\n",
      "|03/04/2019 20:53:25|      loc99|          33|\n",
      "|03/04/2019 20:58:25|      loc99|          32|\n",
      "|03/04/2019 21:03:25|      loc99|          32|\n",
      "|03/04/2019 21:08:25|      loc99|          31|\n",
      "|03/04/2019 21:13:25|      loc99|          37|\n",
      "|03/04/2019 21:18:25|      loc99|          32|\n",
      "+-------------------+-----------+------------+\n",
      "only showing top 20 rows\n",
      "\n"
     ]
    }
   ],
   "source": [
    "df1.sort(\"location_id\", ascending=False).show()"
   ]
  },
  {
   "cell_type": "markdown",
   "metadata": {},
   "source": [
    "Use OrderBy to sort a data set in order. desc() method sorts in descending"
   ]
  },
  {
   "cell_type": "code",
   "execution_count": 17,
   "metadata": {},
   "outputs": [
    {
     "name": "stdout",
     "output_type": "stream",
     "text": [
      "+-------------------+-----------+------------+\n",
      "|         event_date|location_id|temp_celcius|\n",
      "+-------------------+-----------+------------+\n",
      "|03/04/2019 19:48:25|      loc99|          33|\n",
      "|03/04/2019 21:28:25|      loc99|          33|\n",
      "|03/04/2019 19:53:25|      loc99|          34|\n",
      "|03/04/2019 19:58:25|      loc99|          32|\n",
      "|03/04/2019 20:03:25|      loc99|          32|\n",
      "|03/04/2019 20:08:25|      loc99|          31|\n",
      "|03/04/2019 20:13:25|      loc99|          37|\n",
      "|03/04/2019 20:18:25|      loc99|          35|\n",
      "|03/04/2019 20:23:25|      loc99|          31|\n",
      "|03/04/2019 20:28:25|      loc99|          34|\n",
      "|03/04/2019 20:33:25|      loc99|          32|\n",
      "|03/04/2019 20:38:25|      loc99|          34|\n",
      "|03/04/2019 20:43:25|      loc99|          36|\n",
      "|03/04/2019 20:48:25|      loc99|          34|\n",
      "|03/04/2019 20:53:25|      loc99|          33|\n",
      "|03/04/2019 20:58:25|      loc99|          32|\n",
      "|03/04/2019 21:03:25|      loc99|          32|\n",
      "|03/04/2019 21:08:25|      loc99|          31|\n",
      "|03/04/2019 21:13:25|      loc99|          37|\n",
      "|03/04/2019 21:18:25|      loc99|          32|\n",
      "+-------------------+-----------+------------+\n",
      "only showing top 20 rows\n",
      "\n"
     ]
    }
   ],
   "source": [
    "df1.orderBy(df1[\"location_id\"].desc()).show()"
   ]
  },
  {
   "cell_type": "markdown",
   "metadata": {},
   "source": [
    "Use group by and apply aggregation"
   ]
  },
  {
   "cell_type": "code",
   "execution_count": 18,
   "metadata": {},
   "outputs": [
    {
     "data": {
      "text/plain": [
       "500000"
      ]
     },
     "execution_count": 18,
     "metadata": {},
     "output_type": "execute_result"
    }
   ],
   "source": [
    "df1.count()"
   ]
  },
  {
   "cell_type": "markdown",
   "metadata": {},
   "source": [
    "Use agg function to get aggregated values after groupBy "
   ]
  },
  {
   "cell_type": "code",
   "execution_count": 19,
   "metadata": {},
   "outputs": [
    {
     "name": "stdout",
     "output_type": "stream",
     "text": [
      "+-----------+-----------------+\n",
      "|location_ID|avg(temp_celcius)|\n",
      "+-----------+-----------------+\n",
      "|     loc196|           29.225|\n",
      "|     loc226|           25.306|\n",
      "|     loc463|           23.317|\n",
      "|     loc150|           32.188|\n",
      "|     loc292|           29.159|\n",
      "|     loc311|           24.308|\n",
      "|      loc22|           28.251|\n",
      "|     loc351|           28.194|\n",
      "|     loc370|            29.14|\n",
      "|     loc419|           29.141|\n",
      "|      loc31|           25.196|\n",
      "|     loc305|           27.314|\n",
      "|      loc82|           27.355|\n",
      "|      loc90|           23.216|\n",
      "|     loc118|           24.219|\n",
      "|     loc195|            27.25|\n",
      "|     loc208|           26.206|\n",
      "|      loc39|           25.199|\n",
      "|      loc75|           23.209|\n",
      "|     loc228|           27.295|\n",
      "+-----------+-----------------+\n",
      "only showing top 20 rows\n",
      "\n"
     ]
    }
   ],
   "source": [
    "df1.groupBy(\"location_ID\").agg({\"temp_celcius\":\"avg\"}).show()"
   ]
  },
  {
   "cell_type": "code",
   "execution_count": 20,
   "metadata": {},
   "outputs": [],
   "source": [
    "df_output = df1.groupBy(\"location_ID\").agg({\"temp_celcius\":\"avg\"})"
   ]
  },
  {
   "cell_type": "code",
   "execution_count": 21,
   "metadata": {},
   "outputs": [
    {
     "name": "stdout",
     "output_type": "stream",
     "text": [
      "+-----------+-----------------+\n",
      "|location_ID|avg(temp_celcius)|\n",
      "+-----------+-----------------+\n",
      "|     loc196|           29.225|\n",
      "|     loc226|           25.306|\n",
      "|     loc463|           23.317|\n",
      "|     loc150|           32.188|\n",
      "|     loc292|           29.159|\n",
      "|     loc311|           24.308|\n",
      "|      loc22|           28.251|\n",
      "|     loc351|           28.194|\n",
      "|     loc370|            29.14|\n",
      "|     loc419|           29.141|\n",
      "|      loc31|           25.196|\n",
      "|     loc305|           27.314|\n",
      "|      loc82|           27.355|\n",
      "|      loc90|           23.216|\n",
      "|     loc118|           24.219|\n",
      "|     loc195|            27.25|\n",
      "|     loc208|           26.206|\n",
      "|      loc39|           25.199|\n",
      "|      loc75|           23.209|\n",
      "|     loc228|           27.295|\n",
      "+-----------+-----------------+\n",
      "only showing top 20 rows\n",
      "\n"
     ]
    }
   ],
   "source": [
    "df_output.show()"
   ]
  },
  {
   "cell_type": "markdown",
   "metadata": {},
   "source": [
    "Write dataframe output to a json file"
   ]
  },
  {
   "cell_type": "code",
   "execution_count": null,
   "metadata": {},
   "outputs": [],
   "source": [
    "df_output.write.json('Averagereport.json')"
   ]
  }
 ],
 "metadata": {
  "kernelspec": {
   "display_name": "Python 3",
   "language": "python",
   "name": "python3"
  },
  "language_info": {
   "codemirror_mode": {
    "name": "ipython",
    "version": 3
   },
   "file_extension": ".py",
   "mimetype": "text/x-python",
   "name": "python",
   "nbconvert_exporter": "python",
   "pygments_lexer": "ipython3",
   "version": "3.9.0"
  }
 },
 "nbformat": 4,
 "nbformat_minor": 4
}
